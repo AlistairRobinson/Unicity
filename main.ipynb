{
 "metadata": {
  "language_info": {
   "codemirror_mode": {
    "name": "ipython",
    "version": 3
   },
   "file_extension": ".py",
   "mimetype": "text/x-python",
   "name": "python",
   "nbconvert_exporter": "python",
   "pygments_lexer": "ipython3",
   "version": "3.7.2-final"
  },
  "orig_nbformat": 2,
  "kernelspec": {
   "name": "python_defaultSpec_1598107488274",
   "display_name": "Python 3.7.2 64-bit"
  }
 },
 "nbformat": 4,
 "nbformat_minor": 2,
 "cells": [
  {
   "cell_type": "code",
   "execution_count": null,
   "metadata": {
    "tags": []
   },
   "outputs": [],
   "source": [
    "%matplotlib notebook\n",
    "import os, signal, sys\n",
    "import pandas as pd\n",
    "from matplotlib import pyplot as plt"
   ]
  },
  {
   "cell_type": "code",
   "execution_count": null,
   "metadata": {},
   "outputs": [],
   "source": [
    "sys.path.insert(0, os.path.abspath(\"./unicity\"))\n",
    "from unicity import stats, clean"
   ]
  },
  {
   "cell_type": "code",
   "execution_count": null,
   "metadata": {},
   "outputs": [],
   "source": [
    "args = {\n",
    "    \"v\": False,\n",
    "    \"p\": 1,\n",
    "    \"f\": \"data/60min.csv\",\n",
    "    \"u\": \"user id\",\n",
    "    \"s\": \"2014-06-01\",\n",
    "    \"e\": \"2014-06-02\",\n",
    "    \"r\": \"60min\",\n",
    "}"
   ]
  },
  {
   "cell_type": "code",
   "execution_count": null,
   "metadata": {},
   "outputs": [],
   "source": [
    "try:\n",
    "    data = pd.read_csv(args[\"f\"], parse_dates=[\"start time\", \"end time\"], dayfirst=True)\n",
    "    data = unicity.clean_data(data, args[\"r\"])\n",
    "    data.to_csv(\"data/{}.csv\".format(args[\"r\"]), index=False)\n",
    "except ValueError:\n",
    "    data = pd.read_csv(args[\"f\"], parse_dates=[\"time\"], dayfirst=True)\n",
    "\n",
    "data = data[(data[\"time\"] >= args[\"s\"]) & (data[\"time\"] < args[\"e\"])]"
   ]
  },
  {
   "cell_type": "code",
   "execution_count": null,
   "metadata": {
    "tags": []
   },
   "outputs": [],
   "source": [
    "signal.signal(signal.SIGINT, stats.signal_handler)\n",
    "s, t = stats.unicity(data, args[\"u\"], args[\"p\"], args[\"v\"])\n",
    "print(\"\\nFinal unicity score: {}, {} trials\".format(s / t, t), file=sys.stderr)"
   ]
  },
  {
   "cell_type": "code",
   "execution_count": null,
   "metadata": {
    "tags": []
   },
   "outputs": [],
   "source": [
    "data = pd.read_csv(\"results/2014-06-01.csv\")\n",
    "plt.figure()\n",
    "a = plt.axes()\n",
    "a.set_xlabel(\"Data points revealed\")\n",
    "a.set_ylabel(\"Unicity\")\n",
    "a.set_title(\"Unicity against p\")\n",
    "for res in set(data[\"resolution\"]):\n",
    "    d = data[data[\"resolution\"] == res]\n",
    "    plt.plot(d[\"p\"], d[\"unicity\"])\n",
    "plt.show()"
   ]
  }
 ]
}